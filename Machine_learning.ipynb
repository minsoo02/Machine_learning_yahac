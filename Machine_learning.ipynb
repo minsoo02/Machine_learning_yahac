{
 "cells": [
  {
   "cell_type": "markdown",
   "metadata": {},
   "source": [
    "### 1 Teachable Machine"
   ]
  },
  {
   "cell_type": "markdown",
   "metadata": {},
   "source": [
    "https://teachablemachine.withgoogle.com/"
   ]
  },
  {
   "cell_type": "markdown",
   "metadata": {},
   "source": [
    "### 2 Table"
   ]
  },
  {
   "cell_type": "markdown",
   "metadata": {},
   "source": [
    "**column**  \n",
    "= feature  \n",
    "= attribute  \n",
    "= variable  \n",
    "= field"
   ]
  },
  {
   "cell_type": "markdown",
   "metadata": {},
   "source": [
    "**row**  \n",
    "= instance  \n",
    "= observed value  \n",
    "= record  \n",
    "= example  \n",
    "= case"
   ]
  },
  {
   "cell_type": "markdown",
   "metadata": {},
   "source": [
    "### 3 Independent variable vs Dependent variable"
   ]
  },
  {
   "cell_type": "markdown",
   "metadata": {},
   "source": [
    "* 독립변수는 원인  \n",
    "* 종속변수는 결과\n",
    "* 독립변수와 종속변수의 관계를 인과관계\n",
    "* 인과관계는 상관관계에 포함"
   ]
  },
  {
   "cell_type": "markdown",
   "metadata": {},
   "source": [
    "### 4 머신러닝의 분류"
   ]
  },
  {
   "cell_type": "markdown",
   "metadata": {},
   "source": [
    "<img width=\"699\" alt=\"image\" src=\"https://user-images.githubusercontent.com/49624407/90575555-a2567180-e1f6-11ea-8e52-8ee83b06d14f.png\">"
   ]
  },
  {
   "cell_type": "markdown",
   "metadata": {},
   "source": [
    "* 지도학습 : 문제에 답이 있는 것을 학습\n",
    "* 비지도학습 : 기계에 통찰력을 부여\n",
    "* 강화학습 : 경험을 통해 기계를 수련시킴"
   ]
  },
  {
   "cell_type": "markdown",
   "metadata": {},
   "source": [
    "### 5 지도학습 Supervised learning"
   ]
  },
  {
   "cell_type": "markdown",
   "metadata": {},
   "source": [
    "과거의 데이터로 학습을 해서 결과를 예측"
   ]
  },
  {
   "cell_type": "markdown",
   "metadata": {},
   "source": [
    "데이터가 독립변수, 종속변수로 이루어짐"
   ]
  },
  {
   "cell_type": "markdown",
   "metadata": {},
   "source": [
    "과거의 데이터(독립, 종속변수) -> 학습 -> 모델"
   ]
  },
  {
   "cell_type": "markdown",
   "metadata": {},
   "source": [
    "#### 5.1 회귀 Regression"
   ]
  },
  {
   "cell_type": "markdown",
   "metadata": {},
   "source": [
    "예측하고 싶은 종속변수가 숫자일 때, 회귀라는 머신러닝 방법을 사용"
   ]
  },
  {
   "cell_type": "markdown",
   "metadata": {},
   "source": [
    "#### 5.2 분류 Classification"
   ]
  },
  {
   "cell_type": "markdown",
   "metadata": {},
   "source": [
    "예측하고 싶은 종속변수가 이름일 때, 분류라는 머신러닝 방법을 사용"
   ]
  },
  {
   "cell_type": "markdown",
   "metadata": {},
   "source": [
    "### 6 비지도학습 Unsupervised learning"
   ]
  },
  {
   "cell_type": "markdown",
   "metadata": {},
   "source": [
    "#### 6.1 군집화 Clustering"
   ]
  },
  {
   "cell_type": "markdown",
   "metadata": {},
   "source": [
    "어떤 대상들을 구분해서 그룹을 만드는 것  \n",
    "비슷한 행을 그룹핑하는 것"
   ]
  },
  {
   "cell_type": "markdown",
   "metadata": {},
   "source": [
    "cf) 분류 : 어떤 대상이 어떤 그룹에 속하는지를 판단하는 것"
   ]
  },
  {
   "cell_type": "markdown",
   "metadata": {},
   "source": [
    "#### 6.2 연관 규칙 학습 Association rule learning"
   ]
  },
  {
   "cell_type": "markdown",
   "metadata": {},
   "source": [
    "서로 관련있는 특성(열)을 찾아주는 것  \n",
    "주로 추천에 사용  \n",
    "\n",
    "eg) 라면을 산 사람이 주로 계란을 샀네~"
   ]
  },
  {
   "cell_type": "markdown",
   "metadata": {},
   "source": [
    "<img width=\"538\" alt=\"스크린샷 2020-08-23 오후 2 05 31\" src=\"https://user-images.githubusercontent.com/49624407/90971313-d6f56080-e549-11ea-8fd9-a2d495433b4d.png\">"
   ]
  },
  {
   "cell_type": "markdown",
   "metadata": {},
   "source": [
    "* 관측치(행)을 그룹핑 해주는 것 : 군집화  \n",
    "* 특성(열)을 그룹핑 해주는 것 : 연관규칙"
   ]
  },
  {
   "cell_type": "markdown",
   "metadata": {},
   "source": [
    "* **비지도학습은 그룹핑 하는 것이다.\n",
    "데이터의 성격을 파악하는 것이 목적이다.**"
   ]
  },
  {
   "cell_type": "markdown",
   "metadata": {},
   "source": [
    "### 7 강화학습 Reinforcement learning"
   ]
  },
  {
   "cell_type": "markdown",
   "metadata": {},
   "source": [
    "지도학습이 배움을 통해서 실력을 키우는 것이라면,  \n",
    "강화학습은 일단 해보면서 경험을 통해서 실력을 키우는 것"
   ]
  },
  {
   "cell_type": "markdown",
   "metadata": {},
   "source": [
    "<img width=\"649\" alt=\"스크린샷 2020-08-23 오후 2 24 05\" src=\"https://user-images.githubusercontent.com/49624407/90971592-6ef44980-e54c-11ea-8a95-2fdfb0df12a0.png\">"
   ]
  },
  {
   "cell_type": "markdown",
   "metadata": {},
   "source": [
    "<img width=\"655\" alt=\"스크린샷 2020-08-23 오후 2 24 15\" src=\"https://user-images.githubusercontent.com/49624407/90971598-7f0c2900-e54c-11ea-9360-366d645570fe.png\">"
   ]
  },
  {
   "cell_type": "markdown",
   "metadata": {},
   "source": [
    "* 강화학습에서 사용하는 용어  \n",
    "\n",
    "    게임 : environment  \n",
    "    게이머 : agent  \n",
    "    게임 상태 : state  \n",
    "    게임 점수 : reward  \n",
    "    게이머의 판단력 : policy  \n",
    "    게이머의 행동 : action"
   ]
  },
  {
   "cell_type": "markdown",
   "metadata": {},
   "source": [
    "* **강화학습에서는 더 많은 보상을 받을 수 있는 정책을 만드는 것이 핵심이다.**"
   ]
  }
 ],
 "metadata": {
  "kernelspec": {
   "display_name": "Python 3",
   "language": "python",
   "name": "python3"
  },
  "language_info": {
   "codemirror_mode": {
    "name": "ipython",
    "version": 3
   },
   "file_extension": ".py",
   "mimetype": "text/x-python",
   "name": "python",
   "nbconvert_exporter": "python",
   "pygments_lexer": "ipython3",
   "version": "3.7.6"
  },
  "toc": {
   "base_numbering": 1,
   "nav_menu": {},
   "number_sections": false,
   "sideBar": true,
   "skip_h1_title": false,
   "title_cell": "Table of Contents",
   "title_sidebar": "Contents",
   "toc_cell": false,
   "toc_position": {},
   "toc_section_display": true,
   "toc_window_display": true
  }
 },
 "nbformat": 4,
 "nbformat_minor": 4
}
